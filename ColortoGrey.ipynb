{
  "nbformat": 4,
  "nbformat_minor": 0,
  "metadata": {
    "colab": {
      "provenance": []
    },
    "kernelspec": {
      "name": "python3",
      "display_name": "Python 3"
    },
    "language_info": {
      "name": "python"
    }
  },
  "cells": [
    {
      "cell_type": "code",
      "source": [
        "import cv2\n",
        "import os\n",
        "import zipfile\n",
        "\n",
        "# Unzip the images\n",
        "with zipfile.ZipFile(\"input_images.zip\", 'r') as zip_ref:\n",
        "    zip_ref.extractall(\"input_images\")\n",
        "\n",
        "input_folder = 'input_images'\n",
        "output_folder = 'greyscale_images'\n",
        "os.makedirs(output_folder, exist_ok=True)\n",
        "\n",
        "for filename in os.listdir(input_folder):\n",
        "    if filename.endswith(('.jpg', '.png', '.jpeg')):\n",
        "        img = cv2.imread(os.path.join(input_folder, filename))\n",
        "        grey_img = cv2.cvtColor(img, cv2.COLOR_BGR2GRAY)\n",
        "        cv2.imwrite(os.path.join(output_folder, filename), grey_img)\n",
        "\n",
        "print(\"✅ All images converted to greyscale.\")\n"
      ],
      "metadata": {
        "colab": {
          "base_uri": "https://localhost:8080/"
        },
        "id": "T-OfIFjJNz3U",
        "outputId": "4ff4bc1e-24ab-40b1-f8b1-2cd828b35e97"
      },
      "execution_count": 9,
      "outputs": [
        {
          "output_type": "stream",
          "name": "stdout",
          "text": [
            "✅ All images converted to greyscale.\n"
          ]
        }
      ]
    }
  ]
}